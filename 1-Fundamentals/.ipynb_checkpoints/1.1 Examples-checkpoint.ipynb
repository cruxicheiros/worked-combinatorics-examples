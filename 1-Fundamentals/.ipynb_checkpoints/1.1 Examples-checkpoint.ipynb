{
 "cells": [
  {
   "cell_type": "markdown",
   "id": "55211abb",
   "metadata": {},
   "source": [
    "# 1.1 Examples\n",
    "This is a Haskell notebook."
   ]
  },
  {
   "cell_type": "markdown",
   "id": "11906a14",
   "metadata": {},
   "source": [
    "## Exercises 1.1"
   ]
  },
  {
   "cell_type": "markdown",
   "id": "ab81ff6b",
   "metadata": {},
   "source": [
    "### 1.1.1 Explain why an $m \\times n$ board can be covered if either $m$ or $n$ is even. Explain why it cannot be covered if both $m$ and $n$ are odd.\n",
    "\n",
    "To cover a chessboard with dominos, the total number of squares on the chessboard needs to be a multiple of 2, as each domino takes up 2 squares.\n",
    "\n",
    "Because you cannot have partial or negative chessboard squares or dominoes, $m$ and $n$ must both be positive integers.\n",
    "\n",
    "If any one of $m$ or $n$ is even, then $m \\times n$ will always result in another even number. However, if both $m$ and $n$ are odd, the result will always be another odd number. To produce a chessboard with an odd number of squares, both $m$ and $n$ must be odd.\n",
    "\n",
    "All multiples of two are even numbers, and all even numbers are multiples of two.\n",
    "\n",
    "$\\therefore$ If either $m$ or $n$ is even, the chessboard can be covered by dominoes.\n",
    "\n",
    "As no odd numbers are multiples of two, chessboards with an odd number of squares will not be able to be covered by dominoes.\n",
    "\n",
    "$\\therefore$ If both $m$ and $n$ are odd, the chessboard cannot be covered by dominoes.\n"
   ]
  },
  {
   "cell_type": "markdown",
   "id": "138d3b6d",
   "metadata": {},
   "source": [
    "### 1.1.2 Suppose two diagonally opposite corners of an ordinary $8 \\times 8$ board are removed. Can the resulting board be covered?\n",
    "\n",
    "No, it can't. While the resulting board still has an even number of tiles, the diagonally opposite corners of the chessboard are going to have the same color. This will leave the board with a different number of black tiles to white tiles.\n",
    "\n",
    "On a chessboard, a tile of any given color is going to be surrounded by tiles of the opposite color on any given side. There are no black tiles that share edges or white tiles that share edges. This means that to cover the board, each domino must cover a black tile and a white tile.\n",
    "\n",
    "$\\therefore$ if there isn't an even number of tiles of each color, the board can't be colored.\n",
    "\n",
    "\n",
    "```\n",
    "Fig. 1. An 8x8 chessboard\n",
    "\n",
    ".#.#.#.#.#.#.#.#\n",
    "#.#.#.#.#.#.#.#.\n",
    ".#.#.#.#.#.#.#.#\n",
    "#.#.#.#.#.#.#.#.\n",
    ".#.#.#.#.#.#.#.#\n",
    "#.#.#.#.#.#.#.#.\n",
    ".#.#.#.#.#.#.#.#\n",
    "#.#.#.#.#.#.#.#.\n",
    "```\n",
    "\n",
    "```\n",
    "Fig. 2. 8x8 chessboards with two diagonal corners removed\n",
    "\n",
    " #.#.#.#.#.#.#.#\n",
    "#.#.#.#.#.#.#.#.\n",
    ".#.#.#.#.#.#.#.#\n",
    "#.#.#.#.#.#.#.#.\n",
    ".#.#.#.#.#.#.#.#\n",
    "#.#.#.#.#.#.#.#.\n",
    ".#.#.#.#.#.#.#.#\n",
    "#.#.#.#.#.#.#.# \n",
    "\n",
    ".#.#.#.#.#.#.#.\n",
    "#.#.#.#.#.#.#.#.\n",
    ".#.#.#.#.#.#.#.#\n",
    "#.#.#.#.#.#.#.#.\n",
    ".#.#.#.#.#.#.#.#\n",
    "#.#.#.#.#.#.#.#.\n",
    ".#.#.#.#.#.#.#.#\n",
    " .#.#.#.#.#.#.#.\n",
    "```"
   ]
  },
  {
   "cell_type": "markdown",
   "id": "c2b29b17",
   "metadata": {},
   "source": [
    "### 1.1.3 Suppose that m and n are both odd. On an $m \\times n$ board, colored as usual, all four corners will be the same color, say white. Suppose one white square is removed from any location on the board. Show that the resulting board can be covered. "
   ]
  },
  {
   "cell_type": "markdown",
   "id": "bedee89b",
   "metadata": {},
   "source": [
    "###  1.1.4 Suppose that one corner of an $8 \\times 8$ board is removed. Can the remainder be covered by $1 \\times 3$ tiles? Show a tiling or prove that it cannot be done. "
   ]
  }
 ],
 "metadata": {
  "kernelspec": {
   "display_name": "Haskell",
   "language": "haskell",
   "name": "haskell"
  },
  "language_info": {
   "codemirror_mode": "ihaskell",
   "file_extension": ".hs",
   "mimetype": "text/x-haskell",
   "name": "haskell",
   "pygments_lexer": "Haskell",
   "version": "8.10.7"
  }
 },
 "nbformat": 4,
 "nbformat_minor": 5
}
