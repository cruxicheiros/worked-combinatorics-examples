{
 "cells": [
  {
   "cell_type": "markdown",
   "id": "55211abb",
   "metadata": {},
   "source": [
    "# 1.1 Examples\n",
    "In this notebook I'm working through [Unit 1: Fundamentals, Chapter 1: Examples](https://www.whitman.edu/mathematics/cgt_online/book/section01.01.html)."
   ]
  },
  {
   "cell_type": "markdown",
   "id": "11906a14",
   "metadata": {},
   "source": [
    "## Exercises 1.1"
   ]
  },
  {
   "cell_type": "markdown",
   "id": "ab81ff6b",
   "metadata": {},
   "source": [
    "### 1.1.1 Explain why an $m \\times n$ board can be covered if either $m$ or $n$ is even. Explain why it cannot be covered if both $m$ and $n$ are odd.\n",
    "\n",
    "To cover a chessboard with dominos, the total number of squares on the chessboard needs to be a multiple of 2, as each domino takes up 2 squares.\n",
    "\n",
    "Because you cannot have partial or negative chessboard squares or dominoes, $m$ and $n$ must both be positive integers.\n",
    "\n",
    "If any one of $m$ or $n$ is even, then $m \\times n$ will always result in another even number. However, if both $m$ and $n$ are odd, the result will always be another odd number. To produce a chessboard with an odd number of squares, both $m$ and $n$ must be odd.\n",
    "\n",
    "All multiples of two are even numbers, and all even numbers are multiples of two.\n",
    "\n",
    "$\\therefore$ If either $m$ or $n$ is even, the chessboard can be covered by dominoes.\n",
    "\n",
    "As no odd numbers are multiples of two, chessboards with an odd number of squares will not be able to be covered by dominoes.\n",
    "\n",
    "$\\therefore$ If both $m$ and $n$ are odd, the chessboard cannot be covered by dominoes.\n"
   ]
  },
  {
   "cell_type": "markdown",
   "id": "deda3209",
   "metadata": {},
   "source": [
    "### 1.1.2 Suppose two diagonally opposite corners of an ordinary $8 \\times 8$ board are removed. Can the resulting board be covered?\n",
    "\n",
    "No, it can't. While the resulting board still has an even number of tiles, the diagonally opposite corners of the chessboard are going to have the same color. This will leave the board with a different number of black tiles to white tiles.\n",
    "\n",
    "On a chessboard, a tile of any given color is going to be surrounded by tiles of the opposite color on any given side. There are no black tiles that share edges or white tiles that share edges. This means that to cover the board, each domino must cover a black tile and a white tile.\n",
    "\n",
    "$\\therefore$ if there isn't an even number of tiles of each color, the board can't be colored.\n",
    "\n",
    "\n",
    "```\n",
    "Fig. 1. An 8x8 chessboard\n",
    "\n",
    ".#.#.#.#.#.#.#.#\n",
    "#.#.#.#.#.#.#.#.\n",
    ".#.#.#.#.#.#.#.#\n",
    "#.#.#.#.#.#.#.#.\n",
    ".#.#.#.#.#.#.#.#\n",
    "#.#.#.#.#.#.#.#.\n",
    ".#.#.#.#.#.#.#.#\n",
    "#.#.#.#.#.#.#.#.\n",
    "```\n",
    "\n",
    "```\n",
    "Fig. 2. 8x8 chessboards with two diagonal corners removed\n",
    "\n",
    " #.#.#.#.#.#.#.#\n",
    "#.#.#.#.#.#.#.#.\n",
    ".#.#.#.#.#.#.#.#\n",
    "#.#.#.#.#.#.#.#.\n",
    ".#.#.#.#.#.#.#.#\n",
    "#.#.#.#.#.#.#.#.\n",
    ".#.#.#.#.#.#.#.#\n",
    "#.#.#.#.#.#.#.# \n",
    "\n",
    ".#.#.#.#.#.#.#.\n",
    "#.#.#.#.#.#.#.#.\n",
    ".#.#.#.#.#.#.#.#\n",
    "#.#.#.#.#.#.#.#.\n",
    ".#.#.#.#.#.#.#.#\n",
    "#.#.#.#.#.#.#.#.\n",
    ".#.#.#.#.#.#.#.#\n",
    " .#.#.#.#.#.#.#.\n",
    "```"
   ]
  },
  {
   "cell_type": "markdown",
   "id": "fe6506a4",
   "metadata": {},
   "source": [
    "### 1.1.3 Suppose that m and n are both odd. On an $m \\times n$ board, colored as usual, all four corners will be the same color, say white. Suppose one white square is removed from any location on the board. Show that the resulting board can be covered. \n",
    "\n",
    "A $m \\times n$ chessboard where $m$ and $n$ are both odd without having any squares removed can't be covered. This is because each domino takes up two squares and therefore to cover a chessboard the chessboard's size needs to be a multiple of two. As discussed in 1.1.1, when $m$ and $n$ are both odd, the total number of squares in the chessboard will also be odd. However, removing 1 square from the chessboard brings the number of total squares down to an even number, which will be a multiple of 2. This satisfies that constraint.\n",
    "\n",
    "However, the square removed _must_ be of the type in the corners of the chessboard. This is because there will be 1 more square of the corner-color than the color that is not in the  corners of the chessboard in a chessboard where both m and n are odd. This is because in a chessboard where $m$ and $n$ are both odd, it's impossible to get a $1 \\colon 1$ ratio of black and white squares in each row. Even rows will have 1 more square of the corner color than the alternate color, and odd rows will have 1 more square of the alternate color than the corner color. If there is an even number of rows, this doesn't matter because the 'extra' square in an odd-numbered row pairs up with the 'extra' square in the even numbered row.\n",
    "\n",
    "Because there is an odd number of rows, there will be 1 more odd-numbered row than even-numbered row, meaning there will be an unpaired square of the corner color. As discussed in 1.1.2, the number of squares of each color in the chessboard must be equal for it to be coverable by dominos.\n",
    "\n",
    "${\\therefore}$ Removing any white square from a $m \\times n$ chessboard where both $m$ and $n$ are odd and all four corners are white will make it coverable by dominos."
   ]
  },
  {
   "cell_type": "markdown",
   "id": "a08b5f05",
   "metadata": {},
   "source": [
    "## Unstarted questions"
   ]
  },
  {
   "attachments": {
    "image.png": {
     "image/png": "[encoded data removed]"
    }
   },
   "cell_type": "markdown",
   "id": "219ca082",
   "metadata": {},
   "source": [
    "* 1.1.4 Suppose that one corner of an $8 \\times 8$ board is removed. Can the remainder be covered by $1 \\times 3$ tiles? Show a tiling or prove that it cannot be done. \n",
    "\n",
    "* 1.1.5 Suppose the square in row 3, column 3 of an $8 \\times 8$ board is removed. Can the remainder be covered by $1 \\times 3$ tiles? Show a tiling or prove that it cannot be done.\n",
    "\n",
    "* 1.1.6 Remove two diagonally opposite corners of an m×n board, where m is odd and n is even. Show that the remainder can be covered with dominoes.\n",
    "\n",
    "* 1.1.7 Suppose one white and one black square are removed from an n×n board, n even. Show that the remainder can be covered by dominoes.\n",
    "\n",
    "* 1.1.8 Suppose an n×n board, n even, is covered with dominoes. Show that the number of horizontal dominoes with a white square under the left end is equal to the number of horizontal dominoes with a black square under the left end.\n",
    "\n",
    "* 1.1.9 In the complete graph on five vertices shown above, there are five pairs of edges that cross. Draw this graph so that only one pair of edges cross. Remember that \"edges'' do not have to be straight lines.\n",
    "\n",
    "* 1.1.10 The complete bipartite graph K3,3 consists of two groups of three vertices each, with all possible edges between the groups and no other edges:\n",
    "\n",
    "![image.png](attachment:image.png)\n",
    "\n",
    "Draw this graph with only one crossing. "
   ]
  },
  {
   "cell_type": "code",
   "execution_count": null,
   "id": "27e7311c",
   "metadata": {},
   "outputs": [],
   "source": []
  }
 ],
 "metadata": {
  "kernelspec": {
   "display_name": "Haskell",
   "language": "haskell",
   "name": "haskell"
  },
  "language_info": {
   "codemirror_mode": "ihaskell",
   "file_extension": ".hs",
   "mimetype": "text/x-haskell",
   "name": "haskell",
   "pygments_lexer": "Haskell",
   "version": "8.10.7"
  }
 },
 "nbformat": 4,
 "nbformat_minor": 5
}
